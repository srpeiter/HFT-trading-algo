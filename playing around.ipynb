{
 "cells": [
  {
   "cell_type": "code",
   "execution_count": null,
   "id": "authorized-scroll",
   "metadata": {},
   "outputs": [],
   "source": [
    "import numpy as np\n",
    "from matplotlib import pyplot as plt\n",
    "from scipy import integrate"
   ]
  },
  {
   "cell_type": "code",
   "execution_count": null,
   "id": "crude-tension",
   "metadata": {},
   "outputs": [],
   "source": [
    "te = 40\n",
    "dt = 0.01\n",
    "mu = 8\n",
    "sigma = 4\n",
    "t = np.arange(0,te,dt)\n",
    "W_t = np.random.normal(0,1,int(te/dt))\n",
    "X_t = mu*t + sigma* W_t\n",
    "plt.plot(t,X_t,'--')\n",
    "# plt.axhline(np.mean(X_t),c='r')\n",
    "plt.xlim(0,1)\n",
    "plt.ylim(-10,20)"
   ]
  },
  {
   "cell_type": "code",
   "execution_count": null,
   "id": "alternate-lotus",
   "metadata": {},
   "outputs": [],
   "source": [
    "np.mean(X_t)"
   ]
  },
  {
   "cell_type": "code",
   "execution_count": null,
   "id": "noble-ordering",
   "metadata": {},
   "outputs": [],
   "source": [
    "np.std(X_t)"
   ]
  },
  {
   "cell_type": "code",
   "execution_count": null,
   "id": "labeled-diesel",
   "metadata": {},
   "outputs": [],
   "source": [
    "plt.hist(X_t,bins=26)"
   ]
  },
  {
   "cell_type": "code",
   "execution_count": null,
   "id": "impaired-implement",
   "metadata": {},
   "outputs": [],
   "source": [
    "np.arccos(0.25)*180/np.pi"
   ]
  },
  {
   "cell_type": "code",
   "execution_count": null,
   "id": "beautiful-spray",
   "metadata": {},
   "outputs": [],
   "source": [
    "x = np.arange(-30,30,0.01)\n",
    "mu = 0\n",
    "sigma = np.sqrt(2)\n",
    "gauss = 1/np.sqrt(2 *np.pi * sigma**2) * np.exp(-x**2/2/sigma**2)\n",
    "plt.plot(x,gauss)\n",
    "plt.axvline(3)\n"
   ]
  },
  {
   "cell_type": "code",
   "execution_count": null,
   "id": "selective-parking",
   "metadata": {},
   "outputs": [],
   "source": [
    "def int_gauss(x,sigma,mu):\n",
    "    gauss = 1/np.sqrt(2 *np.pi * sigma**2) * np.exp(-(x-mu)**2/2/sigma**2)\n",
    "    return gauss"
   ]
  },
  {
   "cell_type": "code",
   "execution_count": null,
   "id": "familiar-university",
   "metadata": {},
   "outputs": [],
   "source": [
    "I = integrate.quad(int_gauss,-np.inf,np.log(3),(np.sqrt(2),1))"
   ]
  },
  {
   "cell_type": "code",
   "execution_count": null,
   "id": "differential-smith",
   "metadata": {},
   "outputs": [],
   "source": [
    "I"
   ]
  },
  {
   "cell_type": "code",
   "execution_count": null,
   "id": "weird-qualification",
   "metadata": {},
   "outputs": [],
   "source": [
    "integrate.quad?"
   ]
  },
  {
   "cell_type": "code",
   "execution_count": null,
   "id": "demonstrated-adaptation",
   "metadata": {},
   "outputs": [],
   "source": [
    "np.arccos(0.5)*180/np.pi"
   ]
  },
  {
   "cell_type": "code",
   "execution_count": null,
   "id": "great-degree",
   "metadata": {},
   "outputs": [],
   "source": [
    "np.log(1)"
   ]
  },
  {
   "cell_type": "code",
   "execution_count": null,
   "id": "outer-diagram",
   "metadata": {},
   "outputs": [],
   "source": [
    "a=4"
   ]
  },
  {
   "cell_type": "code",
   "execution_count": null,
   "id": "dependent-audit",
   "metadata": {},
   "outputs": [],
   "source": [
    "np.log(np.e)"
   ]
  },
  {
   "cell_type": "code",
   "execution_count": null,
   "id": "congressional-version",
   "metadata": {},
   "outputs": [],
   "source": [
    "x1 = -2/3.\n",
    "x2 = -x1\n",
    "\n",
    "x1**2 + 2*x1*x2 * x2**3\n",
    "print(a)"
   ]
  },
  {
   "cell_type": "code",
   "execution_count": null,
   "id": "aware-gardening",
   "metadata": {},
   "outputs": [],
   "source": [
    "year = np.arange(1,20,1)"
   ]
  },
  {
   "cell_type": "code",
   "execution_count": null,
   "id": "seventh-tampa",
   "metadata": {},
   "outputs": [],
   "source": [
    "disc = 5e5 / (1+ 0.1)**year"
   ]
  },
  {
   "cell_type": "code",
   "execution_count": null,
   "id": "threaded-sleeve",
   "metadata": {},
   "outputs": [],
   "source": [
    "PV = 5e5 + np.sum(disc)"
   ]
  },
  {
   "cell_type": "code",
   "execution_count": null,
   "id": "failing-compilation",
   "metadata": {},
   "outputs": [],
   "source": [
    "PV*1e-6"
   ]
  },
  {
   "cell_type": "code",
   "execution_count": null,
   "id": "unknown-nitrogen",
   "metadata": {},
   "outputs": [],
   "source": [
    "disc"
   ]
  },
  {
   "cell_type": "code",
   "execution_count": null,
   "id": "occasional-layout",
   "metadata": {},
   "outputs": [],
   "source": [
    "10e6*(1+0.1)**20 *1e-6"
   ]
  },
  {
   "cell_type": "code",
   "execution_count": null,
   "id": "smart-vehicle",
   "metadata": {},
   "outputs": [],
   "source": [
    "a=4"
   ]
  },
  {
   "cell_type": "code",
   "execution_count": null,
   "id": "bridal-sarah",
   "metadata": {},
   "outputs": [],
   "source": [
    "5e5*(1+0.1)**20*1e-6"
   ]
  },
  {
   "cell_type": "code",
   "execution_count": null,
   "id": "eleven-detector",
   "metadata": {},
   "outputs": [],
   "source": [
    "1000/(1+0.12)**6"
   ]
  },
  {
   "cell_type": "code",
   "execution_count": null,
   "id": "governmental-fourth",
   "metadata": {},
   "outputs": [],
   "source": [
    "900/(1+0.12)**6"
   ]
  },
  {
   "cell_type": "code",
   "execution_count": null,
   "id": "administrative-venue",
   "metadata": {},
   "outputs": [],
   "source": [
    "mnth = np.arange(1,6,1)\n",
    "disc = 1/(1+0.12)**mnth"
   ]
  },
  {
   "cell_type": "code",
   "execution_count": null,
   "id": "exterior-chester",
   "metadata": {},
   "outputs": [],
   "source": [
    "disc"
   ]
  },
  {
   "cell_type": "code",
   "execution_count": null,
   "id": "silent-baking",
   "metadata": {},
   "outputs": [],
   "source": [
    "np.sum(1e3*disc)"
   ]
  },
  {
   "cell_type": "code",
   "execution_count": null,
   "id": "extreme-portfolio",
   "metadata": {},
   "outputs": [],
   "source": [
    "np.sum(900*disc)+1000"
   ]
  },
  {
   "cell_type": "code",
   "execution_count": null,
   "id": "terminal-garbage",
   "metadata": {},
   "outputs": [],
   "source": [
    "np.sum(1e3*disc)"
   ]
  },
  {
   "cell_type": "code",
   "execution_count": null,
   "id": "palestinian-mason",
   "metadata": {},
   "outputs": [],
   "source": [
    "1/(1+0.069)**2"
   ]
  },
  {
   "cell_type": "code",
   "execution_count": null,
   "id": "comparative-composer",
   "metadata": {},
   "outputs": [],
   "source": [
    "(1+0.069)**2/(1+0.063)**1 -1"
   ]
  },
  {
   "cell_type": "code",
   "execution_count": null,
   "id": "rubber-honduras",
   "metadata": {},
   "outputs": [],
   "source": [
    "400*(1+0.02)**3"
   ]
  },
  {
   "cell_type": "code",
   "execution_count": null,
   "id": "registered-medicaid",
   "metadata": {},
   "outputs": [],
   "source": [
    "1e4/(1+0.1) - 1e4/(1+0.08)"
   ]
  },
  {
   "cell_type": "code",
   "execution_count": null,
   "id": "pregnant-korean",
   "metadata": {},
   "outputs": [],
   "source": [
    "1e4/0.08 - 1e4/0.1"
   ]
  },
  {
   "cell_type": "code",
   "execution_count": null,
   "id": "proof-bermuda",
   "metadata": {},
   "outputs": [],
   "source": [
    "125*(1+0.1/2)"
   ]
  },
  {
   "cell_type": "code",
   "execution_count": null,
   "id": "prescription-hours",
   "metadata": {},
   "outputs": [],
   "source": [
    "(131.25 - 125) * 1/(1+0.1/2)"
   ]
  },
  {
   "cell_type": "code",
   "execution_count": null,
   "id": "trained-destruction",
   "metadata": {},
   "outputs": [],
   "source": [
    "1/(1+0.081)**4"
   ]
  },
  {
   "cell_type": "code",
   "execution_count": null,
   "id": "recorded-reality",
   "metadata": {},
   "outputs": [],
   "source": [
    "s = np.array([7.0,\n",
    "7.3,\n",
    "7.7,\n",
    "8.1,\n",
    "8.4,\n",
    "8.8])\n",
    "power = np.arange(0,len(s),1)+1\n",
    "d = 1/(1+s/100)**power"
   ]
  },
  {
   "cell_type": "code",
   "execution_count": null,
   "id": "neither-reality",
   "metadata": {},
   "outputs": [],
   "source": [
    "X = (1 - d[-1])/(np.sum(d))"
   ]
  },
  {
   "cell_type": "code",
   "execution_count": null,
   "id": "mounted-conducting",
   "metadata": {},
   "outputs": [],
   "source": [
    "X"
   ]
  },
  {
   "cell_type": "code",
   "execution_count": 9,
   "id": "typical-portrait",
   "metadata": {},
   "outputs": [
    {
     "data": {
      "text/plain": [
       "-28.694404591104696"
      ]
     },
     "execution_count": 9,
     "metadata": {},
     "output_type": "execute_result"
    }
   ],
   "source": [
    "(3 - 105 * 3/ (105 - 1/1.05 * 100) )/1.02"
   ]
  },
  {
   "cell_type": "code",
   "execution_count": null,
   "id": "dietary-point",
   "metadata": {},
   "outputs": [],
   "source": []
  }
 ],
 "metadata": {
  "hide_input": false,
  "kernelspec": {
   "display_name": "Python 3 (ipykernel)",
   "language": "python",
   "name": "python3"
  },
  "language_info": {
   "codemirror_mode": {
    "name": "ipython",
    "version": 3
   },
   "file_extension": ".py",
   "mimetype": "text/x-python",
   "name": "python",
   "nbconvert_exporter": "python",
   "pygments_lexer": "ipython3",
   "version": "3.8.12"
  },
  "toc": {
   "base_numbering": 1,
   "nav_menu": {},
   "number_sections": true,
   "sideBar": true,
   "skip_h1_title": false,
   "title_cell": "Table of Contents",
   "title_sidebar": "Contents",
   "toc_cell": false,
   "toc_position": {},
   "toc_section_display": true,
   "toc_window_display": false
  },
  "varInspector": {
   "cols": {
    "lenName": 16,
    "lenType": 16,
    "lenVar": 40
   },
   "kernels_config": {
    "python": {
     "delete_cmd_postfix": "",
     "delete_cmd_prefix": "del ",
     "library": "var_list.py",
     "varRefreshCmd": "print(var_dic_list())"
    },
    "r": {
     "delete_cmd_postfix": ") ",
     "delete_cmd_prefix": "rm(",
     "library": "var_list.r",
     "varRefreshCmd": "cat(var_dic_list()) "
    }
   },
   "types_to_exclude": [
    "module",
    "function",
    "builtin_function_or_method",
    "instance",
    "_Feature"
   ],
   "window_display": false
  }
 },
 "nbformat": 4,
 "nbformat_minor": 5
}
