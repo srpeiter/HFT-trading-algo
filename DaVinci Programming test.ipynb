{
 "cells": [
  {
   "cell_type": "markdown",
   "id": "b37f1558",
   "metadata": {},
   "source": [
    "Loading some usefull modules used throughout this notebook"
   ]
  },
  {
   "cell_type": "code",
   "execution_count": 1,
   "id": "72cd2923",
   "metadata": {},
   "outputs": [],
   "source": [
    "import numpy as np\n",
    "import pandas as pd\n",
    "from matplotlib import pyplot as plt\n",
    "import matplotlib as mpl\n",
    "import pandas_datareader as pdr\n",
    "import datetime\n",
    "\n"
   ]
  },
  {
   "cell_type": "markdown",
   "id": "6e826208",
   "metadata": {},
   "source": [
    "# Configuration for plots"
   ]
  },
  {
   "cell_type": "code",
   "execution_count": 2,
   "id": "9aed934a",
   "metadata": {},
   "outputs": [],
   "source": [
    "font = {'weight' : 'normal',\n",
    "        'size'   : 15}\n",
    "mpl.rcParams['figure.figsize'] = (6., 6.0)\n",
    "mpl.rc('font', **font)\n",
    "mpl.rcParams['axes.unicode_minus']=False\n",
    "mpl.rc('axes', linewidth = 1.5)\n",
    "mpl.rc('xtick', labelsize=15)\n",
    "mpl.rc('ytick', labelsize=15)\n",
    "mpl.rcParams['lines.linewidth'] = 2\n",
    "mpl.rcParams['axes.labelsize'] = 'large'\n",
    "mpl.rcParams['xtick.major.size'] = 5.5     # major tick size in points\n",
    "mpl.rcParams['xtick.major.width'] = 1.5     # major tick size in points\n",
    "mpl.rcParams['ytick.major.size'] = 5.5     # major tick size in points\n",
    "mpl.rcParams['ytick.major.width'] = 1.5     # major tick size in points"
   ]
  },
  {
   "cell_type": "markdown",
   "id": "de8ce0b3",
   "metadata": {},
   "source": [
    "# Exploring data with pandas"
   ]
  },
  {
   "cell_type": "code",
   "execution_count": 9,
   "id": "88c4c445",
   "metadata": {},
   "outputs": [
    {
     "name": "stdout",
     "output_type": "stream",
     "text": [
      "timestamp,price\r",
      "\r\n",
      "2019-05-23 08:00:00.537101596,100.64168160198379\r",
      "\r\n",
      "2019-05-23 08:00:01.507983251,100.05507849778921\r",
      "\r\n",
      "2019-05-23 08:00:02.242291019,100.30396291819923\r",
      "\r\n",
      "2019-05-23 08:00:02.627328232,99.52916189409152\r",
      "\r\n",
      "2019-05-23 08:00:04.973570211,99.42336053815531\r",
      "\r\n",
      "2019-05-23 08:00:05.428338199,100.82529709941177\r",
      "\r\n",
      "2019-05-23 08:00:06.513853816,99.90929408638179\r",
      "\r\n",
      "2019-05-23 08:00:06.935166583,99.22235695121151\r",
      "\r\n",
      "2019-05-23 08:00:07.193822561,102.13973417922277\r",
      "\r\n"
     ]
    }
   ],
   "source": [
    "!head 4708263_QB3Z8L4T.csv"
   ]
  },
  {
   "cell_type": "code",
   "execution_count": 10,
   "id": "07f2ed50",
   "metadata": {},
   "outputs": [],
   "source": [
    "stock_A = df=pd.read_csv('4708263_FGA0ZWBR.csv',index_col='timestamp',header=0,parse_dates=True)\n",
    "stock_B = df=pd.read_csv('4708263_QB3Z8L4T.csv',index_col='timestamp',header=0,parse_dates=True)"
   ]
  },
  {
   "cell_type": "code",
   "execution_count": 23,
   "id": "c633bc01",
   "metadata": {},
   "outputs": [
    {
     "data": {
      "text/plain": [
       "<AxesSubplot:ylabel='Frequency'>"
      ]
     },
     "execution_count": 23,
     "metadata": {},
     "output_type": "execute_result"
    },
    {
     "data": {
      "image/png": "[encoded data removed]",
      "text/plain": [
       "<Figure size 432x432 with 1 Axes>"
      ]
     },
     "metadata": {
      "needs_background": "light"
     },
     "output_type": "display_data"
    }
   ],
   "source": [
    "fig,ax= plt.subplots()\n",
    "stock_A.plot(kind='hist',bins=30,ax=ax,alpha=0.6,color='b')\n",
    "stock_B.plot(kind='hist',bins=30,ax=ax,alpha=0.7,color='r')"
   ]
  },
  {
   "cell_type": "markdown",
   "id": "a1e89557",
   "metadata": {},
   "source": [
    "Both stock price seem to be normally distributed"
   ]
  },
  {
   "cell_type": "code",
   "execution_count": 33,
   "id": "b2f8de16",
   "metadata": {},
   "outputs": [
    {
     "name": "stdout",
     "output_type": "stream",
     "text": [
      "total time for stock A: 0 days 13:59:57.562772036\n",
      "total time for stock B: 0 days 13:59:57.733971734\n"
     ]
    }
   ],
   "source": [
    "# what is the total time \n",
    "print ('total time for stock A:', stock_A.index[-1] - stock_A.index[0])\n",
    "print ('total time for stock B:', stock_B.index[-1] - stock_B.index[0])\n",
    "# Ok this is stock data over a period of 14 hours, and the same\n",
    "# applies for stock B"
   ]
  },
  {
   "cell_type": "markdown",
   "id": "6afd3030",
   "metadata": {},
   "source": [
    "# Implementing the trading algorithm"
   ]
  },
  {
   "cell_type": "code",
   "execution_count": 257,
   "id": "d5a754be",
   "metadata": {},
   "outputs": [],
   "source": [
    "# Ok add column to stock dataframe that signals a trade and initialize to zero\n",
    "# first case: lets analyze stock A\n",
    "cond = 4 # condition to signal a trading opportunity\n",
    "delay = 40 # [ms] trading lag between stock A and stock B\n",
    "\n",
    "signal = pd.DataFrame(index = stock_A.index).fillna(0)\n",
    "signal['pricediffA'] = stock_A.diff()\n",
    "signal['trade signal']= 0\n",
    "\n",
    "# Now we buy or sell stock B whenever tradesignal is 1 or -1, respectively\n",
    "signal.loc[signal.pricediffA > cond,'trade signal']= 1 # Buy stock B\n",
    "signal.loc[signal.pricediffA < -cond,'trade signal']= -1 # Sell stock B\n",
    "\n",
    "# keep track of all the B stocks that have been bought and sold\n",
    "holding_B = pd.DataFrame(index=stock_B.index)\n",
    "holding_B['price']= stock_B.price\n",
    "holding_B['buysignal'] = 0\n",
    "holding_B['sellsignal'] = 0\n",
    "\n",
    "# now get all the buy signals indices\n",
    "buy_B_ind = signal.index[(signal['trade signal']==1)]\n",
    "# add 40 ms for delay\n",
    "buy_B_ind += datetime.timedelta(milliseconds=delay)\n",
    "\n",
    "# now check the nearest time stamp in B. The 'nearest' variable \n",
    "# finds the lower timestamp in B\n",
    "for buy in buy_B_ind:\n",
    "    \n",
    "    # find nearest time in B\n",
    "    ind = stock_B.index.get_loc(buy, method='nearest')\n",
    "    timest_buy = stock_B.index[ind] # buy after 40 ms\n",
    "    # After buying stock B, sell at the next time step to make profit\n",
    "    # only if value at next time step is larger\n",
    "    timest_sell = stock_B.index[ind+1] #\n",
    "    \n",
    "    # perform check to signal profit trade\n",
    "    if (holding_B.loc[timest_buy]['price'] < holding_B.loc[timest_sell]['price']):\n",
    "        # we make profit\n",
    "        holding_B.at[timest_buy,'buysignal']= -1 # negative, because capital leaves our wallet\n",
    "        holding_B.at[timest_sell,'buysignal']= 1 # positive, because capital enters our wallet\n",
    "\n",
    "\n",
    "# Now do the same for when value of stock price decrease is larger than c \n",
    "\n",
    "sell_B_ind = signal.index[(signal['trade signal']==-1)]\n",
    "# add 40 ms for delay\n",
    "sell_B_ind += datetime.timedelta(milliseconds=delay)\n",
    "\n",
    "# now check the nearest time stamp in B. The 'nearest' variable \n",
    "# finds the lower timestamp in B\n",
    "for sell in sell_B_ind:\n",
    "    \n",
    "    # find nearest time in B\n",
    "    ind = stock_B.index.get_loc(sell, method='nearest')\n",
    "    timest_sell = stock_B.index[ind] # sell B after 40 ms\n",
    "    # After selling stock B, buy at the next time step to make profit\n",
    "    # only if value at next time step is smaller\n",
    "    timest_buy = stock_B.index[ind+1] #\n",
    "    \n",
    "    # perform check to signal profit trade only if buy price is lower than sell price\n",
    "    if (holding_B.loc[timest_buy]['price'] < holding_B.loc[timest_sell]['price']):\n",
    "        # we make profit\n",
    "        holding_B.at[timest_sell,'sellsignal']= 1\n",
    "        holding_B.at[timest_buy,'sellsignal']= -1\n",
    "    \n",
    "\n",
    "\n",
    "# Now calculate total profit after executing trades\n",
    "holding_B['profit_buy'] = holding_B.buysignal * holding_B.price\n",
    "holding_B['profit_sell'] = holding_B.sellsignal * holding_B.price\n",
    "\n",
    "# sum columns to obtain the profits from selling and buying stock whenever the \n",
    "# price change of stock A is greater or smaller that 4 and -4, respectively\n",
    "\n",
    "totalprofit = holding_B.profit_buy.sum() + holding_B.profit_sell.sum()"
   ]
  },
  {
   "cell_type": "code",
   "execution_count": 258,
   "id": "ccd47cb2",
   "metadata": {},
   "outputs": [
    {
     "data": {
      "text/plain": [
       "<AxesSubplot:xlabel='timestamp'>"
      ]
     },
     "execution_count": 258,
     "metadata": {},
     "output_type": "execute_result"
    },
    {
     "data": {
      "image/png": "[encoded data removed]",
      "text/plain": [
       "<Figure size 432x432 with 1 Axes>"
      ]
     },
     "metadata": {
      "needs_background": "light"
     },
     "output_type": "display_data"
    }
   ],
   "source": [
    "holding_B.profit_buy.cumsum().plot()"
   ]
  },
  {
   "cell_type": "markdown",
   "id": "db508429",
   "metadata": {},
   "source": [
    "Trade execution: We indeed see that the code executes buy trades for stock B"
   ]
  },
  {
   "cell_type": "code",
   "execution_count": 259,
   "id": "44262974",
   "metadata": {},
   "outputs": [
    {
     "data": {
      "text/plain": [
       "<AxesSubplot:xlabel='timestamp'>"
      ]
     },
     "execution_count": 259,
     "metadata": {},
     "output_type": "execute_result"
    },
    {
     "data": {
      "image/png": "[encoded data removed]",
      "text/plain": [
       "<Figure size 432x432 with 1 Axes>"
      ]
     },
     "metadata": {
      "needs_background": "light"
     },
     "output_type": "display_data"
    }
   ],
   "source": [
    "holding_B.profit_sell.cumsum().plot()"
   ]
  },
  {
   "cell_type": "code",
   "execution_count": 262,
   "id": "6da43b8e",
   "metadata": {},
   "outputs": [],
   "source": [
    "a = holding_B.profit_buy.cumsum() + holding_B.profit_sell.cumsum()"
   ]
  },
  {
   "cell_type": "code",
   "execution_count": 263,
   "id": "204387d5",
   "metadata": {},
   "outputs": [
    {
     "data": {
      "text/plain": [
       "<AxesSubplot:xlabel='timestamp'>"
      ]
     },
     "execution_count": 263,
     "metadata": {},
     "output_type": "execute_result"
    },
    {
     "data": {
      "image/png": "[encoded data removed]",
      "text/plain": [
       "<Figure size 432x432 with 1 Axes>"
      ]
     },
     "metadata": {
      "needs_background": "light"
     },
     "output_type": "display_data"
    }
   ],
   "source": [
    "a.plot()"
   ]
  },
  {
   "cell_type": "code",
   "execution_count": 264,
   "id": "8586be18",
   "metadata": {},
   "outputs": [
    {
     "data": {
      "text/plain": [
       "54.494270170838504"
      ]
     },
     "execution_count": 264,
     "metadata": {},
     "output_type": "execute_result"
    }
   ],
   "source": [
    "totalprofit"
   ]
  },
  {
   "cell_type": "code",
   "execution_count": null,
   "id": "08df1c47",
   "metadata": {},
   "outputs": [],
   "source": []
  }
 ],
 "metadata": {
  "hide_input": false,
  "kernelspec": {
   "display_name": "Python 3 (ipykernel)",
   "language": "python",
   "name": "python3"
  },
  "language_info": {
   "codemirror_mode": {
    "name": "ipython",
    "version": 3
   },
   "file_extension": ".py",
   "mimetype": "text/x-python",
   "name": "python",
   "nbconvert_exporter": "python",
   "pygments_lexer": "ipython3",
   "version": "3.8.12"
  },
  "toc": {
   "base_numbering": 1,
   "nav_menu": {},
   "number_sections": true,
   "sideBar": true,
   "skip_h1_title": false,
   "title_cell": "Table of Contents",
   "title_sidebar": "Contents",
   "toc_cell": false,
   "toc_position": {},
   "toc_section_display": true,
   "toc_window_display": false
  },
  "varInspector": {
   "cols": {
    "lenName": 16,
    "lenType": 16,
    "lenVar": 40
   },
   "kernels_config": {
    "python": {
     "delete_cmd_postfix": "",
     "delete_cmd_prefix": "del ",
     "library": "var_list.py",
     "varRefreshCmd": "print(var_dic_list())"
    },
    "r": {
     "delete_cmd_postfix": ") ",
     "delete_cmd_prefix": "rm(",
     "library": "var_list.r",
     "varRefreshCmd": "cat(var_dic_list()) "
    }
   },
   "types_to_exclude": [
    "module",
    "function",
    "builtin_function_or_method",
    "instance",
    "_Feature"
   ],
   "window_display": false
  }
 },
 "nbformat": 4,
 "nbformat_minor": 5
}
